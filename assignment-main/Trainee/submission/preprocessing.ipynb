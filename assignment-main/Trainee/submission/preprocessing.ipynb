{
  "nbformat": 4,
  "nbformat_minor": 0,
  "metadata": {
    "colab": {
      "provenance": []
    },
    "kernelspec": {
      "name": "python3",
      "display_name": "Python 3"
    },
    "language_info": {
      "name": "python"
    }
  },
  "cells": [
    {
      "cell_type": "code",
      "source": [
        "import numpy as np\n",
        "from sklearn.preprocessing import MinMaxScaler\n",
        "import matplotlib.pyplot as plt\n",
        "import pandas as pd\n",
        "import torch\n",
        "import torch.nn as nn"
      ],
      "metadata": {
        "id": "mFHsjEireU6Z"
      },
      "execution_count": 15,
      "outputs": []
    },
    {
      "cell_type": "code",
      "execution_count": 9,
      "metadata": {
        "id": "imQ5YMGE5rsa"
      },
      "outputs": [],
      "source": [
        "df = pd.read_csv('/content/stock_price.csv')\n",
        "df['日付け'] = pd.to_datetime(df['日付け'], format='%Y-%m-%d', errors='coerce')\n",
        "# 出来高の変換 (Mを1e6、Bを1e9に変換)\n",
        "df['出来高'] = df['出来高'].replace({'M': 'e6', 'B': 'e9'}, regex=True).astype(float)\n",
        "# 変化率 % の変換\n",
        "df['変化率 %'] = df['変化率 %'].str.replace('%', '').astype(float)\n",
        "# 日付をインデックスに設定\n",
        "df.set_index('日付け', inplace=True)\n",
        "# データを逆順に並べ替え\n",
        "df = df.iloc[::-1].reset_index(drop=False)\n",
        "\n",
        "def label_change_rate(rate):\n",
        "  if rate >= 0:\n",
        "    return 1\n",
        "  else:\n",
        "    return 0\n",
        "\n",
        "df['ラベル'] = df['変化率 %'].apply(label_change_rate)\n",
        "\n",
        "# RSIの計算関数\n",
        "def calculate_rsi(data, period=14):\n",
        "    delta = data['終値'].diff()\n",
        "    gain = (delta.where(delta > 0, 0)).rolling(window=period).mean()\n",
        "    loss = (-delta.where(delta < 0, 0)).rolling(window=period).mean()\n",
        "    rs = gain / loss\n",
        "    rsi = 100 - (100 / (1 + rs))\n",
        "    return rsi\n",
        "\n",
        "\n",
        "# RSIを追加\n",
        "df['RSI'] = calculate_rsi(df)\n",
        "df['rsi_overbought'] = (df['RSI'] >= 70).astype(int)\n",
        "df['rsi_oversold'] = (df['RSI'] <= 30).astype(int)\n",
        "\n",
        "df['O-C'] = df['始値'] - df['終値']\n",
        "df['H-L'] = df['高値'] - df['安値']\n",
        "# SMAの計算\n",
        "df['sma5'] = df['終値'].rolling(window=5).mean()\n",
        "df['sma10'] = df['終値'].rolling(window=10).mean()\n",
        "df['sma15'] = df['終値'].rolling(window=15).mean()\n",
        "df['sma20'] = df['終値'].rolling(window=20).mean()\n",
        "df['sma30'] = df['終値'].rolling(window=30).mean()\n",
        "df['sma50'] = df['終値'].rolling(window=50).mean()\n",
        "df['sma80'] = df['終値'].rolling(window=80).mean()\n",
        "df['sma100'] = df['終値'].rolling(window=100).mean()\n",
        "df['sma200'] = df['終値'].rolling(window=200).mean()\n",
        "\n",
        "# SMA比率の計算\n",
        "df['sma5_ratio'] = df['終値'] / df['sma5']\n",
        "df['sma10_ratio'] = df['終値'] / df['sma10']\n",
        "df['sma15_ratio'] = df['終値'] / df['sma15']\n",
        "df['sma20_ratio'] = df['終値'] / df['sma20']\n",
        "df['sma30_ratio'] = df['終値'] / df['sma30']\n",
        "df['sma50_ratio'] = df['終値'] / df['sma50']\n",
        "df['sma80_ratio'] = df['終値'] / df['sma80']\n",
        "df['sma100_ratio'] = df['終値'] / df['sma100']\n",
        "df['sma200_ratio'] = df['終値'] / df['sma200']\n",
        "\n",
        "# ATRの計算\n",
        "df['high_low'] = df['高値'] - df['安値']\n",
        "df['high_close'] = np.abs(df['高値'] - df['終値'].shift())\n",
        "df['low_close'] = np.abs(df['安値'] - df['終値'].shift())\n",
        "df['tr'] = df[['high_low', 'high_close', 'low_close']].max(axis=1)\n",
        "df['atr'] = df['tr'].rolling(window=14).mean()\n",
        "\n",
        "# ボラティリティ (20日の標準偏差)\n",
        "df['volatility'] = df['終値'].rolling(window=20).std()\n",
        "\n",
        "# CCIの計算\n",
        "typical_price = (df['高値'] + df['安値'] + df['終値']) / 3\n",
        "df['cci'] = (typical_price - typical_price.rolling(window=20).mean()) / (0.015 * typical_price.rolling(window=20).std())\n",
        "\n",
        "# ボリンジャーバンドの計算\n",
        "df['bol_mid'] = df['終値'].rolling(window=20).mean()\n",
        "df['bol_upper'] = df['bol_mid'] + (df['終値'].rolling(window=20).std() * 2)\n",
        "df['bol_lower'] = df['bol_mid'] - (df['終値'].rolling(window=20).std() * 2)\n",
        "\n",
        "# OBVの計算\n",
        "df['obv'] = (np.sign(df['終値'].diff()) * df['出来高']).fillna(0).cumsum()\n",
        "\n",
        "# ROCの計算 (10日間の変化率)\n",
        "df['roc2'] = df['終値'].pct_change(periods=2) * 100\n",
        "df['roc3'] = df['終値'].pct_change(periods=3) * 100\n",
        "df['roc4'] = df['終値'].pct_change(periods=4) * 100\n",
        "df['roc5'] = df['終値'].pct_change(periods=5) * 100\n",
        "\n",
        "# MACDの計算\n",
        "ema12 = df['終値'].ewm(span=12, adjust=False).mean()\n",
        "ema26 = df['終値'].ewm(span=26, adjust=False).mean()\n",
        "df['macd'] = ema12 - ema26\n",
        "df['signal'] = df['macd'].ewm(span=9, adjust=False).mean()\n",
        "# macd_diffの計算 (MACDとSignalの差)\n",
        "df['macd_diff'] = df['macd'] - df['signal']"
      ]
    },
    {
      "cell_type": "code",
      "source": [
        "# 全てのfloat64列をfloat32に変換\n",
        "df = df.astype({col: 'float32' for col in df.select_dtypes(include='float64').columns})\n",
        "df = df.dropna()\n",
        "\n",
        "#データ範囲の絞り込み\n",
        "df = df[df['日付け'] >= pd.to_datetime('1950-01-01') ]\n",
        "df.set_index('日付け', inplace=True)\n",
        "\n",
        "#為替データの追加\n",
        "import yfinance as yf\n",
        "\n",
        "# 米ドルから円への為替レート (USD/JPY)\n",
        "ticker = 'JPY=X'\n",
        "data = yf.download(ticker, start='1987-01-01', end='2024-08-02')\n",
        "\n",
        "# 前日比で終値が何%増減したかを計算する\n",
        "data['Pct_Change'] = data['Close'].pct_change() * 100\n",
        "\n",
        "# 為替データのClose,Pct_Change列のみ抽出\n",
        "exchange_close = data[['Close','Pct_Change']].rename(columns={'Close': 'Exchange_Close', 'Pct_Change': 'Exchange_Pct_Change'})\n",
        "\n",
        "# 株価データと為替データを日付でマージ (inner join)\n",
        "merged_data = df.join(exchange_close, how='inner')\n",
        "\n",
        "# 結果の確認\n",
        "print(merged_data.head())"
      ],
      "metadata": {
        "colab": {
          "base_uri": "https://localhost:8080/"
        },
        "id": "GFrqWpoSoDWe",
        "outputId": "7727bef0-619c-4dd9-9416-b50f813e772a"
      },
      "execution_count": 10,
      "outputs": [
        {
          "output_type": "stream",
          "name": "stderr",
          "text": [
            "\r[*********************100%***********************]  1 of 1 completed"
          ]
        },
        {
          "output_type": "stream",
          "name": "stdout",
          "text": [
            "                   終値         始値         高値         安値         出来高  変化率 %  \\\n",
            "1996-10-30  79.800003  80.199997  80.400002  79.699997  29970000.0  -0.50   \n",
            "1996-11-01  78.699997  78.699997  79.000000  78.099998  38400000.0  -1.01   \n",
            "1996-11-05  77.699997  78.699997  78.800003  77.599998  37890000.0  -1.27   \n",
            "1996-11-06  79.800003  78.000000  80.000000  77.800003  37840000.0   2.70   \n",
            "1996-11-08  80.000000  78.500000  80.000000  78.500000  40910000.0   1.27   \n",
            "\n",
            "            ラベル        RSI  rsi_overbought  rsi_oversold  ...           obv  \\\n",
            "1996-10-30    0  48.863636               0             0  ...  1.621699e+10   \n",
            "1996-11-01    0  43.956043               0             0  ...  1.615320e+10   \n",
            "1996-11-05    0  35.789474               0             0  ...  1.611531e+10   \n",
            "1996-11-06    1  47.413792               0             0  ...  1.615315e+10   \n",
            "1996-11-08    1  45.238094               0             0  ...  1.612566e+10   \n",
            "\n",
            "                roc2      roc3      roc4      roc5      macd    signal  \\\n",
            "1996-10-30 -0.250000  1.012658 -0.746269 -1.359703 -0.115869 -0.045572   \n",
            "1996-11-01 -1.378446 -1.870324 -1.625000 -0.379747 -0.247533 -0.103457   \n",
            "1996-11-05 -2.264151 -2.631579 -3.117207 -2.875000 -0.397060 -0.162177   \n",
            "1996-11-06  1.397713  0.377358  0.000000 -0.498753 -0.342165 -0.198175   \n",
            "1996-11-08  0.250627  2.960103  1.651842  0.628931 -0.288457 -0.241975   \n",
            "\n",
            "            macd_diff  Exchange_Close  Exchange_Pct_Change  \n",
            "1996-10-30  -0.070297      114.180000                  NaN  \n",
            "1996-11-01  -0.144077      113.500000            -0.595551  \n",
            "1996-11-05  -0.234883      114.250000             0.324906  \n",
            "1996-11-06  -0.143990      113.949997            -0.262585  \n",
            "1996-11-08  -0.046482      111.739998            -1.939446  \n",
            "\n",
            "[5 rows x 50 columns]\n"
          ]
        },
        {
          "output_type": "stream",
          "name": "stderr",
          "text": [
            "\n"
          ]
        }
      ]
    },
    {
      "cell_type": "code",
      "source": [
        "df.info()"
      ],
      "metadata": {
        "colab": {
          "base_uri": "https://localhost:8080/"
        },
        "id": "C7LtV_8T_p3f",
        "outputId": "d0529f6f-9462-4b94-919d-ca4dafdc4213"
      },
      "execution_count": 11,
      "outputs": [
        {
          "output_type": "stream",
          "name": "stdout",
          "text": [
            "<class 'pandas.core.frame.DataFrame'>\n",
            "DatetimeIndex: 9003 entries, 1987-11-27 to 2024-08-01\n",
            "Data columns (total 48 columns):\n",
            " #   Column          Non-Null Count  Dtype  \n",
            "---  ------          --------------  -----  \n",
            " 0   終値              9003 non-null   float32\n",
            " 1   始値              9003 non-null   float32\n",
            " 2   高値              9003 non-null   float32\n",
            " 3   安値              9003 non-null   float32\n",
            " 4   出来高             9003 non-null   float32\n",
            " 5   変化率 %           9003 non-null   float32\n",
            " 6   ラベル             9003 non-null   int64  \n",
            " 7   RSI             9003 non-null   float32\n",
            " 8   rsi_overbought  9003 non-null   int64  \n",
            " 9   rsi_oversold    9003 non-null   int64  \n",
            " 10  O-C             9003 non-null   float32\n",
            " 11  H-L             9003 non-null   float32\n",
            " 12  sma5            9003 non-null   float32\n",
            " 13  sma10           9003 non-null   float32\n",
            " 14  sma15           9003 non-null   float32\n",
            " 15  sma20           9003 non-null   float32\n",
            " 16  sma30           9003 non-null   float32\n",
            " 17  sma50           9003 non-null   float32\n",
            " 18  sma80           9003 non-null   float32\n",
            " 19  sma100          9003 non-null   float32\n",
            " 20  sma200          9003 non-null   float32\n",
            " 21  sma5_ratio      9003 non-null   float32\n",
            " 22  sma10_ratio     9003 non-null   float32\n",
            " 23  sma15_ratio     9003 non-null   float32\n",
            " 24  sma20_ratio     9003 non-null   float32\n",
            " 25  sma30_ratio     9003 non-null   float32\n",
            " 26  sma50_ratio     9003 non-null   float32\n",
            " 27  sma80_ratio     9003 non-null   float32\n",
            " 28  sma100_ratio    9003 non-null   float32\n",
            " 29  sma200_ratio    9003 non-null   float32\n",
            " 30  high_low        9003 non-null   float32\n",
            " 31  high_close      9003 non-null   float32\n",
            " 32  low_close       9003 non-null   float32\n",
            " 33  tr              9003 non-null   float32\n",
            " 34  atr             9003 non-null   float32\n",
            " 35  volatility      9003 non-null   float32\n",
            " 36  cci             9003 non-null   float32\n",
            " 37  bol_mid         9003 non-null   float32\n",
            " 38  bol_upper       9003 non-null   float32\n",
            " 39  bol_lower       9003 non-null   float32\n",
            " 40  obv             9003 non-null   float32\n",
            " 41  roc2            9003 non-null   float32\n",
            " 42  roc3            9003 non-null   float32\n",
            " 43  roc4            9003 non-null   float32\n",
            " 44  roc5            9003 non-null   float32\n",
            " 45  macd            9003 non-null   float32\n",
            " 46  signal          9003 non-null   float32\n",
            " 47  macd_diff       9003 non-null   float32\n",
            "dtypes: float32(45), int64(3)\n",
            "memory usage: 1.8 MB\n"
          ]
        }
      ]
    },
    {
      "cell_type": "code",
      "source": [
        "#train, valid, testデータの分割\n",
        "#2022をvalid,2023をtest\n",
        "train_data = merged_data[merged_data.index < '2022-08-01']\n",
        "valid_data = merged_data[(merged_data.index >= '2022-08-01') & (merged_data.index < '2023-08-01')]\n",
        "test_data = merged_data[merged_data.index >= '2023-08-01']\n",
        "\n",
        "print(train_data.shape)\n",
        "print(valid_data.shape)\n",
        "print(test_data.shape)"
      ],
      "metadata": {
        "colab": {
          "base_uri": "https://localhost:8080/"
        },
        "id": "XDj0XiAO2AZU",
        "outputId": "0f4bf770-c982-4ca7-b4dc-0cb515cc731f"
      },
      "execution_count": 13,
      "outputs": [
        {
          "output_type": "stream",
          "name": "stdout",
          "text": [
            "(6265, 50)\n",
            "(246, 50)\n",
            "(247, 50)\n"
          ]
        }
      ]
    },
    {
      "cell_type": "code",
      "source": [
        "def create_sequences(data_X, X, data_y, seq_length,isTrain):\n",
        "    Xs, ys = [], []\n",
        "    for i in range(seq_length, len(data_X)):\n",
        "        if(isTrain):\n",
        "          if X[i][1] >= 0.2 or X[i][1] <= -0.2:\n",
        "            Xs.append(data_X[i - seq_length:i])\n",
        "            ys.append(data_y[i])\n",
        "          else:\n",
        "            continue\n",
        "        else:\n",
        "          Xs.append(data_X[i - seq_length:i])\n",
        "          ys.append(data_y[i])\n",
        "\n",
        "    return np.array(Xs), np.array(ys)\n",
        "\n",
        "#使用する特徴量の設定\n",
        "features = ['終値', '変化率 %','Exchange_Close','Exchange_Pct_Change','H-L','O-C','roc2','RSI','bol_upper','bol_lower']\n",
        "#features = ['終値', '変化率 %','Exchange_Close','H-L','Exchange_Pct_Change','O-C','roc2','RSI','sma5']\n",
        "#features = ['終値', '変化率 %','Close','始値','高値','安値','出来高']\n",
        "#features = ['終値','変化率 %', 'Close']\n",
        "train_data_X = train_data[features].values\n",
        "valid_data_X = valid_data[features].values\n",
        "test_data_X = test_data[features].values\n",
        "train_target = train_data['ラベル'].values\n",
        "valid_target = valid_data['ラベル'].values\n",
        "test_target = test_data['ラベル'].values\n",
        "\n",
        "scaler = MinMaxScaler()\n",
        "train_data_scaled = scaler.fit_transform(train_data_X)\n",
        "valid_data_scaled = scaler.transform(valid_data_X)\n",
        "test_data_scaled = scaler.transform(test_data_X)\n",
        "\n",
        "#LSTMに学習させるためにデータの形状を変更\n",
        "seq_length = 5\n",
        "train_X_seq, train_y_seq = create_sequences(train_data_scaled,train_data_X,train_target, seq_length,True)\n",
        "valid_X_seq, valid_y_seq = create_sequences(valid_data_scaled,valid_data_X, valid_target,seq_length,False)\n",
        "test_X_seq, test_y_seq = create_sequences(test_data_scaled,test_data_X, test_target,seq_length,False)\n",
        "# PyTorchのテンソルに変換\n",
        "X_train = torch.tensor(train_X_seq, dtype=torch.float32)\n",
        "y_train = torch.tensor(train_y_seq, dtype=torch.long)\n",
        "X_valid = torch.tensor(valid_X_seq, dtype=torch.float32)\n",
        "y_valid = torch.tensor(valid_y_seq, dtype=torch.long)\n",
        "X_test = torch.tensor(test_X_seq, dtype=torch.float32)\n",
        "y_test = torch.tensor(test_y_seq, dtype=torch.long)\n",
        "\n",
        "print(X_train.shape)\n",
        "print(y_train.shape)\n",
        "print(X_valid.shape)\n",
        "print(y_valid.shape)\n",
        "print(X_test.shape)\n",
        "print(y_test.shape)"
      ],
      "metadata": {
        "id": "0clxDkqXEweH",
        "colab": {
          "base_uri": "https://localhost:8080/"
        },
        "outputId": "270fa34f-9de3-4ded-e6b2-9a46f674cbf7"
      },
      "execution_count": 16,
      "outputs": [
        {
          "output_type": "stream",
          "name": "stdout",
          "text": [
            "torch.Size([5559, 5, 10])\n",
            "torch.Size([5559])\n",
            "torch.Size([241, 5, 10])\n",
            "torch.Size([241])\n",
            "torch.Size([242, 5, 10])\n",
            "torch.Size([242])\n"
          ]
        }
      ]
    }
  ]
}